{
  "nbformat": 4,
  "nbformat_minor": 0,
  "metadata": {
    "colab": {
      "provenance": []
    },
    "kernelspec": {
      "name": "python3",
      "display_name": "Python 3"
    },
    "language_info": {
      "name": "python"
    }
  },
  "cells": [
    {
      "cell_type": "markdown",
      "source": [
        "This project aims to analyze the relationship between various medical parameters and drug effectiveness. The dataset consists of patient information, including age, sex, blood pressure levels (BP), cholesterol levels, sodium-to-potassium ratio (Na_to_K), drug type, and corresponding labels. The goal is to develop a model that can accurately predict the class or category of a given drug based on its features"
      ],
      "metadata": {
        "id": "sGC9qGoBEftZ"
      }
    },
    {
      "cell_type": "code",
      "source": [
        "import pandas as pd\n",
        "import numpy as np\n",
        "import tensorflow as tf\n",
        "from tensorflow import keras\n",
        "from sklearn.preprocessing import LabelEncoder, StandardScaler\n",
        "from sklearn.model_selection import train_test_split\n"
      ],
      "metadata": {
        "id": "ngi-imjREnvz"
      },
      "execution_count": null,
      "outputs": []
    },
    {
      "cell_type": "markdown",
      "source": [
        "Read the dataset"
      ],
      "metadata": {
        "id": "Ie1RucCAISk6"
      }
    },
    {
      "cell_type": "code",
      "source": [
        "df = pd.read_csv('/drug200.csv')"
      ],
      "metadata": {
        "id": "f4Iw2QAnGvqr"
      },
      "execution_count": null,
      "outputs": []
    },
    {
      "cell_type": "markdown",
      "source": [
        "Separate features and labels"
      ],
      "metadata": {
        "id": "DFnlK8HsIUVQ"
      }
    },
    {
      "cell_type": "code",
      "source": [
        "features = df.drop(\"Drug\", axis=1)\n",
        "labels = df[\"Drug\"]\n"
      ],
      "metadata": {
        "id": "3vQPL-bGG2Zg"
      },
      "execution_count": null,
      "outputs": []
    },
    {
      "cell_type": "markdown",
      "source": [
        " Perform label encoding on categorical variables"
      ],
      "metadata": {
        "id": "4nNohnKs3xzz"
      }
    },
    {
      "cell_type": "code",
      "source": [
        "le = LabelEncoder()\n",
        "features[\"Sex\"] = le.fit_transform(features[\"Sex\"])\n",
        "features[\"BP\"] = le.fit_transform(features[\"BP\"])\n",
        "features[\"Cholesterol\"] = le.fit_transform(features[\"Cholesterol\"])"
      ],
      "metadata": {
        "id": "tJRkyW7K3VB_"
      },
      "execution_count": null,
      "outputs": []
    },
    {
      "cell_type": "markdown",
      "source": [
        " Perform feature scaling on numerical variables"
      ],
      "metadata": {
        "id": "5GYUHoe6365L"
      }
    },
    {
      "cell_type": "code",
      "source": [
        "scaler = StandardScaler()\n",
        "scaled_features = scaler.fit_transform(features)"
      ],
      "metadata": {
        "id": "_PtWHStcExsj"
      },
      "execution_count": null,
      "outputs": []
    },
    {
      "cell_type": "markdown",
      "source": [
        "Split the data into training and testing sets"
      ],
      "metadata": {
        "id": "oQfHYkyXJLwZ"
      }
    },
    {
      "cell_type": "code",
      "source": [
        "X_train, X_test, y_train, y_test = train_test_split(scaled_features, labels, test_size=0.2, random_state=42)\n"
      ],
      "metadata": {
        "id": "FZ3Mv3q2JNlv"
      },
      "execution_count": null,
      "outputs": []
    },
    {
      "cell_type": "markdown",
      "source": [
        "# Building the ANN model"
      ],
      "metadata": {
        "id": "D3D6cxkcN2rA"
      }
    },
    {
      "cell_type": "code",
      "source": [
        "\n",
        "model = keras.Sequential([\n",
        "    keras.layers.Dense(64, activation='relu', input_shape=(5,)),\n",
        "    keras.layers.Dense(128, activation='relu'),\n",
        "    keras.layers.Dense(64, activation='relu'),\n",
        "    keras.layers.Dense(5, activation='softmax')\n",
        "])\n"
      ],
      "metadata": {
        "id": "nMCfSWnIN5gd"
      },
      "execution_count": null,
      "outputs": []
    },
    {
      "cell_type": "markdown",
      "source": [
        "Compiling the model"
      ],
      "metadata": {
        "id": "S5wOAK3GPK0T"
      }
    },
    {
      "cell_type": "code",
      "source": [
        "model.compile(optimizer='adam', loss='sparse_categorical_crossentropy', metrics=['accuracy'])"
      ],
      "metadata": {
        "id": "baqMb1WRPMyA"
      },
      "execution_count": null,
      "outputs": []
    },
    {
      "cell_type": "markdown",
      "source": [
        " Convert labels to numerical values if necessary"
      ],
      "metadata": {
        "id": "FtB-fNSq4TGV"
      }
    },
    {
      "cell_type": "code",
      "source": [
        "label_encoder = LabelEncoder()\n",
        "y_train_encoded = label_encoder.fit_transform(y_train)\n",
        "y_test_encoded = label_encoder.transform(y_test)"
      ],
      "metadata": {
        "id": "w2DZovZT4Wyu"
      },
      "execution_count": null,
      "outputs": []
    },
    {
      "cell_type": "markdown",
      "source": [
        "Train the model"
      ],
      "metadata": {
        "id": "6eZKRcFpPOMx"
      }
    },
    {
      "cell_type": "code",
      "source": [
        "model.fit(X_train, y_train_encoded, epochs=50, batch_size=32, verbose=1)"
      ],
      "metadata": {
        "colab": {
          "base_uri": "https://localhost:8080/"
        },
        "id": "QGlm2IYOPQ1X",
        "outputId": "731cf070-8572-43e4-f49b-462502d168ec"
      },
      "execution_count": null,
      "outputs": [
        {
          "output_type": "stream",
          "name": "stdout",
          "text": [
            "Epoch 1/50\n",
            "5/5 [==============================] - 1s 4ms/step - loss: 1.5562 - accuracy: 0.4125\n",
            "Epoch 2/50\n",
            "5/5 [==============================] - 0s 3ms/step - loss: 1.3831 - accuracy: 0.6125\n",
            "Epoch 3/50\n",
            "5/5 [==============================] - 0s 3ms/step - loss: 1.2261 - accuracy: 0.6375\n",
            "Epoch 4/50\n",
            "5/5 [==============================] - 0s 4ms/step - loss: 1.0979 - accuracy: 0.6687\n",
            "Epoch 5/50\n",
            "5/5 [==============================] - 0s 3ms/step - loss: 0.9678 - accuracy: 0.6687\n",
            "Epoch 6/50\n",
            "5/5 [==============================] - 0s 3ms/step - loss: 0.8654 - accuracy: 0.6812\n",
            "Epoch 7/50\n",
            "5/5 [==============================] - 0s 3ms/step - loss: 0.7772 - accuracy: 0.6938\n",
            "Epoch 8/50\n",
            "5/5 [==============================] - 0s 3ms/step - loss: 0.6934 - accuracy: 0.7125\n",
            "Epoch 9/50\n",
            "5/5 [==============================] - 0s 3ms/step - loss: 0.6096 - accuracy: 0.7812\n",
            "Epoch 10/50\n",
            "5/5 [==============================] - 0s 4ms/step - loss: 0.5395 - accuracy: 0.8375\n",
            "Epoch 11/50\n",
            "5/5 [==============================] - 0s 3ms/step - loss: 0.4751 - accuracy: 0.8438\n",
            "Epoch 12/50\n",
            "5/5 [==============================] - 0s 4ms/step - loss: 0.4182 - accuracy: 0.8687\n",
            "Epoch 13/50\n",
            "5/5 [==============================] - 0s 3ms/step - loss: 0.3693 - accuracy: 0.8938\n",
            "Epoch 14/50\n",
            "5/5 [==============================] - 0s 4ms/step - loss: 0.3227 - accuracy: 0.9125\n",
            "Epoch 15/50\n",
            "5/5 [==============================] - 0s 5ms/step - loss: 0.2848 - accuracy: 0.9375\n",
            "Epoch 16/50\n",
            "5/5 [==============================] - 0s 4ms/step - loss: 0.2470 - accuracy: 0.9500\n",
            "Epoch 17/50\n",
            "5/5 [==============================] - 0s 3ms/step - loss: 0.2186 - accuracy: 0.9563\n",
            "Epoch 18/50\n",
            "5/5 [==============================] - 0s 5ms/step - loss: 0.1915 - accuracy: 0.9688\n",
            "Epoch 19/50\n",
            "5/5 [==============================] - 0s 3ms/step - loss: 0.1666 - accuracy: 0.9812\n",
            "Epoch 20/50\n",
            "5/5 [==============================] - 0s 4ms/step - loss: 0.1464 - accuracy: 0.9875\n",
            "Epoch 21/50\n",
            "5/5 [==============================] - 0s 4ms/step - loss: 0.1303 - accuracy: 0.9875\n",
            "Epoch 22/50\n",
            "5/5 [==============================] - 0s 3ms/step - loss: 0.1144 - accuracy: 0.9875\n",
            "Epoch 23/50\n",
            "5/5 [==============================] - 0s 4ms/step - loss: 0.1020 - accuracy: 0.9937\n",
            "Epoch 24/50\n",
            "5/5 [==============================] - 0s 5ms/step - loss: 0.0910 - accuracy: 0.9937\n",
            "Epoch 25/50\n",
            "5/5 [==============================] - 0s 3ms/step - loss: 0.0816 - accuracy: 0.9937\n",
            "Epoch 26/50\n",
            "5/5 [==============================] - 0s 3ms/step - loss: 0.0747 - accuracy: 1.0000\n",
            "Epoch 27/50\n",
            "5/5 [==============================] - 0s 4ms/step - loss: 0.0668 - accuracy: 1.0000\n",
            "Epoch 28/50\n",
            "5/5 [==============================] - 0s 3ms/step - loss: 0.0610 - accuracy: 1.0000\n",
            "Epoch 29/50\n",
            "5/5 [==============================] - 0s 4ms/step - loss: 0.0555 - accuracy: 1.0000\n",
            "Epoch 30/50\n",
            "5/5 [==============================] - 0s 3ms/step - loss: 0.0515 - accuracy: 1.0000\n",
            "Epoch 31/50\n",
            "5/5 [==============================] - 0s 4ms/step - loss: 0.0473 - accuracy: 1.0000\n",
            "Epoch 32/50\n",
            "5/5 [==============================] - 0s 4ms/step - loss: 0.0442 - accuracy: 1.0000\n",
            "Epoch 33/50\n",
            "5/5 [==============================] - 0s 3ms/step - loss: 0.0402 - accuracy: 1.0000\n",
            "Epoch 34/50\n",
            "5/5 [==============================] - 0s 5ms/step - loss: 0.0375 - accuracy: 1.0000\n",
            "Epoch 35/50\n",
            "5/5 [==============================] - 0s 5ms/step - loss: 0.0349 - accuracy: 1.0000\n",
            "Epoch 36/50\n",
            "5/5 [==============================] - 0s 4ms/step - loss: 0.0324 - accuracy: 1.0000\n",
            "Epoch 37/50\n",
            "5/5 [==============================] - 0s 3ms/step - loss: 0.0303 - accuracy: 1.0000\n",
            "Epoch 38/50\n",
            "5/5 [==============================] - 0s 3ms/step - loss: 0.0285 - accuracy: 1.0000\n",
            "Epoch 39/50\n",
            "5/5 [==============================] - 0s 4ms/step - loss: 0.0269 - accuracy: 1.0000\n",
            "Epoch 40/50\n",
            "5/5 [==============================] - 0s 4ms/step - loss: 0.0248 - accuracy: 1.0000\n",
            "Epoch 41/50\n",
            "5/5 [==============================] - 0s 4ms/step - loss: 0.0239 - accuracy: 1.0000\n",
            "Epoch 42/50\n",
            "5/5 [==============================] - 0s 4ms/step - loss: 0.0229 - accuracy: 1.0000\n",
            "Epoch 43/50\n",
            "5/5 [==============================] - 0s 4ms/step - loss: 0.0211 - accuracy: 1.0000\n",
            "Epoch 44/50\n",
            "5/5 [==============================] - 0s 3ms/step - loss: 0.0204 - accuracy: 1.0000\n",
            "Epoch 45/50\n",
            "5/5 [==============================] - 0s 4ms/step - loss: 0.0191 - accuracy: 1.0000\n",
            "Epoch 46/50\n",
            "5/5 [==============================] - 0s 3ms/step - loss: 0.0180 - accuracy: 1.0000\n",
            "Epoch 47/50\n",
            "5/5 [==============================] - 0s 3ms/step - loss: 0.0174 - accuracy: 1.0000\n",
            "Epoch 48/50\n",
            "5/5 [==============================] - 0s 3ms/step - loss: 0.0170 - accuracy: 1.0000\n",
            "Epoch 49/50\n",
            "5/5 [==============================] - 0s 3ms/step - loss: 0.0156 - accuracy: 1.0000\n",
            "Epoch 50/50\n",
            "5/5 [==============================] - 0s 3ms/step - loss: 0.0151 - accuracy: 1.0000\n"
          ]
        },
        {
          "output_type": "execute_result",
          "data": {
            "text/plain": [
              "<keras.callbacks.History at 0x7f011c020550>"
            ]
          },
          "metadata": {},
          "execution_count": 15
        }
      ]
    },
    {
      "cell_type": "markdown",
      "source": [
        "testing the model with random data"
      ],
      "metadata": {
        "id": "a7tdImkSPll5"
      }
    },
    {
      "cell_type": "code",
      "source": [
        "random_data = np.random.randn(5, 5)\n",
        "scaled_random_data = scaler.transform(random_data)\n",
        "\n",
        "\n",
        "predictions = model.predict(scaled_random_data)\n",
        "predicted_labels = label_encoder.inverse_transform(np.argmax(predictions, axis=1))\n",
        "\n",
        "print(\"Predicted Labels:\")\n",
        "print(predicted_labels)"
      ],
      "metadata": {
        "colab": {
          "base_uri": "https://localhost:8080/"
        },
        "id": "wWjjcNPHPqPF",
        "outputId": "227f91ab-8b9b-41d3-f0ce-9a0938007f6e"
      },
      "execution_count": null,
      "outputs": [
        {
          "output_type": "stream",
          "name": "stdout",
          "text": [
            "1/1 [==============================] - 0s 106ms/step\n",
            "Predicted Labels:\n",
            "['drugA' 'drugC' 'drugC' 'drugA' 'drugA']\n"
          ]
        },
        {
          "output_type": "stream",
          "name": "stderr",
          "text": [
            "/usr/local/lib/python3.10/dist-packages/sklearn/base.py:439: UserWarning: X does not have valid feature names, but StandardScaler was fitted with feature names\n",
            "  warnings.warn(\n"
          ]
        }
      ]
    },
    {
      "cell_type": "markdown",
      "source": [],
      "metadata": {
        "id": "yIlx2C63IuvC"
      }
    }
  ]
}