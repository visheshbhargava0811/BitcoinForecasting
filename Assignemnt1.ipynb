{
  "nbformat": 4,
  "nbformat_minor": 0,
  "metadata": {
    "colab": {
      "provenance": []
    },
    "kernelspec": {
      "name": "python3",
      "display_name": "Python 3"
    },
    "language_info": {
      "name": "python"
    }
  },
  "cells": [
    {
      "cell_type": "markdown",
      "source": [
        "1. Create a pandas dataframe (DataFrame name as 'df') with numpy random values (4 features and 4 observation)"
      ],
      "metadata": {
        "id": "H-mxipf8ma5e"
      }
    },
    {
      "cell_type": "code",
      "execution_count": null,
      "metadata": {
        "id": "mCH9Jq0Nl7Dj"
      },
      "outputs": [],
      "source": [
        "import pandas as pd\n",
        "import numpy as np\n"
      ]
    },
    {
      "cell_type": "code",
      "source": [
        "random_values = np.random.randint(0, 100, size=(4, 4))\n",
        "df = pd.DataFrame(random_values, columns=list('ABCD'))"
      ],
      "metadata": {
        "id": "Bo2XWf6RmZN5"
      },
      "execution_count": null,
      "outputs": []
    },
    {
      "cell_type": "code",
      "source": [
        "print(df)"
      ],
      "metadata": {
        "colab": {
          "base_uri": "https://localhost:8080/"
        },
        "id": "5dVnfoJRmlrv",
        "outputId": "9c2354f1-3f72-46d5-eb02-638b3c401684"
      },
      "execution_count": null,
      "outputs": [
        {
          "output_type": "stream",
          "name": "stdout",
          "text": [
            "    A   B   C   D\n",
            "0  15  45  48  78\n",
            "1  37  10   7   6\n",
            "2  57  64  95  50\n",
            "3  33  64  29  61\n"
          ]
        }
      ]
    },
    {
      "cell_type": "markdown",
      "source": [
        "\n",
        "2. Rename the task - 1 'df' dataframe column names to 'Random value 1', 'Random value 2', 'Random value 3' & 'Random value 4'\n",
        "\n",
        "\n"
      ],
      "metadata": {
        "id": "Uf-oenyQmszC"
      }
    },
    {
      "cell_type": "code",
      "source": [
        "df.columns = ['Random value 1', 'Random value 2', 'Random value 3', 'Random value 4']\n",
        "print(df)"
      ],
      "metadata": {
        "colab": {
          "base_uri": "https://localhost:8080/"
        },
        "id": "fikH4MornFLj",
        "outputId": "4754fe3e-6c54-4327-cd71-9c1cdd4a0dd2"
      },
      "execution_count": null,
      "outputs": [
        {
          "output_type": "stream",
          "name": "stdout",
          "text": [
            "   Random value 1  Random value 2  Random value 3  Random value 4\n",
            "0              15              45              48              78\n",
            "1              37              10               7               6\n",
            "2              57              64              95              50\n",
            "3              33              64              29              61\n"
          ]
        }
      ]
    },
    {
      "cell_type": "markdown",
      "source": [
        "3. Find the descriptive statistics of the 'df' dataframe."
      ],
      "metadata": {
        "id": "vi6H5ojNnH0Y"
      }
    },
    {
      "cell_type": "code",
      "source": [
        "df.describe()"
      ],
      "metadata": {
        "colab": {
          "base_uri": "https://localhost:8080/",
          "height": 297
        },
        "id": "L-dJqxbynR4s",
        "outputId": "a0b15f7b-8472-40a1-85b2-5e8890a233e2"
      },
      "execution_count": null,
      "outputs": [
        {
          "output_type": "execute_result",
          "data": {
            "text/plain": [
              "       Random value 1  Random value 2  Random value 3  Random value 4\n",
              "count        4.000000        4.000000        4.000000        4.000000\n",
              "mean        35.500000       45.750000       44.750000       48.750000\n",
              "std         17.233688       25.460754       37.455529       30.739497\n",
              "min         15.000000       10.000000        7.000000        6.000000\n",
              "25%         28.500000       36.250000       23.500000       39.000000\n",
              "50%         35.000000       54.500000       38.500000       55.500000\n",
              "75%         42.000000       64.000000       59.750000       65.250000\n",
              "max         57.000000       64.000000       95.000000       78.000000"
            ],
            "text/html": [
              "\n",
              "  <div id=\"df-f1d77556-fe29-4be6-a196-20ebbbbfa5f1\">\n",
              "    <div class=\"colab-df-container\">\n",
              "      <div>\n",
              "<style scoped>\n",
              "    .dataframe tbody tr th:only-of-type {\n",
              "        vertical-align: middle;\n",
              "    }\n",
              "\n",
              "    .dataframe tbody tr th {\n",
              "        vertical-align: top;\n",
              "    }\n",
              "\n",
              "    .dataframe thead th {\n",
              "        text-align: right;\n",
              "    }\n",
              "</style>\n",
              "<table border=\"1\" class=\"dataframe\">\n",
              "  <thead>\n",
              "    <tr style=\"text-align: right;\">\n",
              "      <th></th>\n",
              "      <th>Random value 1</th>\n",
              "      <th>Random value 2</th>\n",
              "      <th>Random value 3</th>\n",
              "      <th>Random value 4</th>\n",
              "    </tr>\n",
              "  </thead>\n",
              "  <tbody>\n",
              "    <tr>\n",
              "      <th>count</th>\n",
              "      <td>4.000000</td>\n",
              "      <td>4.000000</td>\n",
              "      <td>4.000000</td>\n",
              "      <td>4.000000</td>\n",
              "    </tr>\n",
              "    <tr>\n",
              "      <th>mean</th>\n",
              "      <td>35.500000</td>\n",
              "      <td>45.750000</td>\n",
              "      <td>44.750000</td>\n",
              "      <td>48.750000</td>\n",
              "    </tr>\n",
              "    <tr>\n",
              "      <th>std</th>\n",
              "      <td>17.233688</td>\n",
              "      <td>25.460754</td>\n",
              "      <td>37.455529</td>\n",
              "      <td>30.739497</td>\n",
              "    </tr>\n",
              "    <tr>\n",
              "      <th>min</th>\n",
              "      <td>15.000000</td>\n",
              "      <td>10.000000</td>\n",
              "      <td>7.000000</td>\n",
              "      <td>6.000000</td>\n",
              "    </tr>\n",
              "    <tr>\n",
              "      <th>25%</th>\n",
              "      <td>28.500000</td>\n",
              "      <td>36.250000</td>\n",
              "      <td>23.500000</td>\n",
              "      <td>39.000000</td>\n",
              "    </tr>\n",
              "    <tr>\n",
              "      <th>50%</th>\n",
              "      <td>35.000000</td>\n",
              "      <td>54.500000</td>\n",
              "      <td>38.500000</td>\n",
              "      <td>55.500000</td>\n",
              "    </tr>\n",
              "    <tr>\n",
              "      <th>75%</th>\n",
              "      <td>42.000000</td>\n",
              "      <td>64.000000</td>\n",
              "      <td>59.750000</td>\n",
              "      <td>65.250000</td>\n",
              "    </tr>\n",
              "    <tr>\n",
              "      <th>max</th>\n",
              "      <td>57.000000</td>\n",
              "      <td>64.000000</td>\n",
              "      <td>95.000000</td>\n",
              "      <td>78.000000</td>\n",
              "    </tr>\n",
              "  </tbody>\n",
              "</table>\n",
              "</div>\n",
              "      <button class=\"colab-df-convert\" onclick=\"convertToInteractive('df-f1d77556-fe29-4be6-a196-20ebbbbfa5f1')\"\n",
              "              title=\"Convert this dataframe to an interactive table.\"\n",
              "              style=\"display:none;\">\n",
              "        \n",
              "  <svg xmlns=\"http://www.w3.org/2000/svg\" height=\"24px\"viewBox=\"0 0 24 24\"\n",
              "       width=\"24px\">\n",
              "    <path d=\"M0 0h24v24H0V0z\" fill=\"none\"/>\n",
              "    <path d=\"M18.56 5.44l.94 2.06.94-2.06 2.06-.94-2.06-.94-.94-2.06-.94 2.06-2.06.94zm-11 1L8.5 8.5l.94-2.06 2.06-.94-2.06-.94L8.5 2.5l-.94 2.06-2.06.94zm10 10l.94 2.06.94-2.06 2.06-.94-2.06-.94-.94-2.06-.94 2.06-2.06.94z\"/><path d=\"M17.41 7.96l-1.37-1.37c-.4-.4-.92-.59-1.43-.59-.52 0-1.04.2-1.43.59L10.3 9.45l-7.72 7.72c-.78.78-.78 2.05 0 2.83L4 21.41c.39.39.9.59 1.41.59.51 0 1.02-.2 1.41-.59l7.78-7.78 2.81-2.81c.8-.78.8-2.07 0-2.86zM5.41 20L4 18.59l7.72-7.72 1.47 1.35L5.41 20z\"/>\n",
              "  </svg>\n",
              "      </button>\n",
              "      \n",
              "  <style>\n",
              "    .colab-df-container {\n",
              "      display:flex;\n",
              "      flex-wrap:wrap;\n",
              "      gap: 12px;\n",
              "    }\n",
              "\n",
              "    .colab-df-convert {\n",
              "      background-color: #E8F0FE;\n",
              "      border: none;\n",
              "      border-radius: 50%;\n",
              "      cursor: pointer;\n",
              "      display: none;\n",
              "      fill: #1967D2;\n",
              "      height: 32px;\n",
              "      padding: 0 0 0 0;\n",
              "      width: 32px;\n",
              "    }\n",
              "\n",
              "    .colab-df-convert:hover {\n",
              "      background-color: #E2EBFA;\n",
              "      box-shadow: 0px 1px 2px rgba(60, 64, 67, 0.3), 0px 1px 3px 1px rgba(60, 64, 67, 0.15);\n",
              "      fill: #174EA6;\n",
              "    }\n",
              "\n",
              "    [theme=dark] .colab-df-convert {\n",
              "      background-color: #3B4455;\n",
              "      fill: #D2E3FC;\n",
              "    }\n",
              "\n",
              "    [theme=dark] .colab-df-convert:hover {\n",
              "      background-color: #434B5C;\n",
              "      box-shadow: 0px 1px 3px 1px rgba(0, 0, 0, 0.15);\n",
              "      filter: drop-shadow(0px 1px 2px rgba(0, 0, 0, 0.3));\n",
              "      fill: #FFFFFF;\n",
              "    }\n",
              "  </style>\n",
              "\n",
              "      <script>\n",
              "        const buttonEl =\n",
              "          document.querySelector('#df-f1d77556-fe29-4be6-a196-20ebbbbfa5f1 button.colab-df-convert');\n",
              "        buttonEl.style.display =\n",
              "          google.colab.kernel.accessAllowed ? 'block' : 'none';\n",
              "\n",
              "        async function convertToInteractive(key) {\n",
              "          const element = document.querySelector('#df-f1d77556-fe29-4be6-a196-20ebbbbfa5f1');\n",
              "          const dataTable =\n",
              "            await google.colab.kernel.invokeFunction('convertToInteractive',\n",
              "                                                     [key], {});\n",
              "          if (!dataTable) return;\n",
              "\n",
              "          const docLinkHtml = 'Like what you see? Visit the ' +\n",
              "            '<a target=\"_blank\" href=https://colab.research.google.com/notebooks/data_table.ipynb>data table notebook</a>'\n",
              "            + ' to learn more about interactive tables.';\n",
              "          element.innerHTML = '';\n",
              "          dataTable['output_type'] = 'display_data';\n",
              "          await google.colab.output.renderOutput(dataTable, element);\n",
              "          const docLink = document.createElement('div');\n",
              "          docLink.innerHTML = docLinkHtml;\n",
              "          element.appendChild(docLink);\n",
              "        }\n",
              "      </script>\n",
              "    </div>\n",
              "  </div>\n",
              "  "
            ]
          },
          "metadata": {},
          "execution_count": 6
        }
      ]
    },
    {
      "cell_type": "markdown",
      "source": [
        "4. Check for the null values in 'df' and find the data type of the columns"
      ],
      "metadata": {
        "id": "smA-0ai5nf_6"
      }
    },
    {
      "cell_type": "code",
      "source": [
        "print(df.isnull().values.any())\n",
        "print(df.dtypes)"
      ],
      "metadata": {
        "colab": {
          "base_uri": "https://localhost:8080/"
        },
        "id": "C7hNR3Y4nnpi",
        "outputId": "657b55e3-6ff6-4a4f-a6d3-cb9764d77f98"
      },
      "execution_count": null,
      "outputs": [
        {
          "output_type": "stream",
          "name": "stdout",
          "text": [
            "False\n",
            "Random value 1    int64\n",
            "Random value 2    int64\n",
            "Random value 3    int64\n",
            "Random value 4    int64\n",
            "dtype: object\n"
          ]
        }
      ]
    },
    {
      "cell_type": "code",
      "source": [
        "location = df.columns.get_loc('Random value 2')\n",
        "index_location = df.columns.get_indexer(['Random value 2', 'Random value 3'])\n",
        "\n",
        "print(df.iloc[:, location])\n",
        "print(df.iloc[:, index_location])"
      ],
      "metadata": {
        "colab": {
          "base_uri": "https://localhost:8080/"
        },
        "id": "8jCbvXcxn3L1",
        "outputId": "c3610ca0-2ff5-42f2-8045-da0e3998e31c"
      },
      "execution_count": null,
      "outputs": [
        {
          "output_type": "stream",
          "name": "stdout",
          "text": [
            "0    45\n",
            "1    10\n",
            "2    64\n",
            "3    64\n",
            "Name: Random value 2, dtype: int64\n",
            "   Random value 2  Random value 3\n",
            "0              45              48\n",
            "1              10               7\n",
            "2              64              95\n",
            "3              64              29\n"
          ]
        }
      ]
    }
  ]
}