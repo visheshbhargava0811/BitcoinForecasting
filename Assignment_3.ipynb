{
  "nbformat": 4,
  "nbformat_minor": 0,
  "metadata": {
    "colab": {
      "provenance": []
    },
    "kernelspec": {
      "name": "python3",
      "display_name": "Python 3"
    },
    "language_info": {
      "name": "python"
    }
  },
  "cells": [
    {
      "cell_type": "code",
      "execution_count": null,
      "metadata": {
        "id": "VApPA5QqmsZd"
      },
      "outputs": [],
      "source": [
        "from tensorflow.keras.models import Sequential\n",
        "from tensorflow.keras.layers import Dense\n",
        "from tensorflow.keras.layers import Convolution2D\n",
        "from tensorflow.keras.layers import MaxPooling2D\n",
        "from tensorflow.keras.layers import Flatten"
      ]
    },
    {
      "cell_type": "code",
      "source": [
        "from tensorflow.keras.preprocessing.image import ImageDataGenerator\n",
        "train_datagen = ImageDataGenerator(rescale = 1./255, shear_range = 0.2, zoom_range = 0.2 , horizontal_flip = True)\n",
        "test_datagen = ImageDataGenerator(rescale = 1./255)"
      ],
      "metadata": {
        "id": "nQvAoL3Yc7w9"
      },
      "execution_count": null,
      "outputs": []
    },
    {
      "cell_type": "code",
      "source": [
        "x_train = train_datagen.flow_from_directory(r\"/content/drive/MyDrive/Colab Notebooks/train_data\", target_size = (64,64) , batch_size=32 , class_mode = \"categorical\")\n",
        "x_test = test_datagen.flow_from_directory(r\"/content/drive/MyDrive/Colab Notebooks/test_data\", target_size = (64,64) , batch_size=32 , class_mode = \"categorical\")"
      ],
      "metadata": {
        "id": "z2Ab84T98iBP",
        "colab": {
          "base_uri": "https://localhost:8080/"
        },
        "outputId": "c498f857-9eb8-4dc3-cdc0-8487a4055e11"
      },
      "execution_count": null,
      "outputs": [
        {
          "output_type": "stream",
          "name": "stdout",
          "text": [
            "Found 150 images belonging to 16 classes.\n",
            "Found 157 images belonging to 1 classes.\n"
          ]
        }
      ]
    },
    {
      "cell_type": "code",
      "source": [
        "x_train.class_indices"
      ],
      "metadata": {
        "id": "bdAq6Odo9hOv",
        "colab": {
          "base_uri": "https://localhost:8080/"
        },
        "outputId": "77ef6382-3888-4e88-c686-dfc316628ec5"
      },
      "execution_count": null,
      "outputs": [
        {
          "output_type": "execute_result",
          "data": {
            "text/plain": [
              "{'blasti': 0,\n",
              " 'bonegl': 1,\n",
              " 'brhkyt': 2,\n",
              " 'cbrtsh': 3,\n",
              " 'cmnmyn': 4,\n",
              " 'gretit': 5,\n",
              " 'hilpig': 6,\n",
              " 'himbul': 7,\n",
              " 'himgri': 8,\n",
              " 'hsparo': 9,\n",
              " 'indvul': 10,\n",
              " 'jglowl': 11,\n",
              " 'lbicrw': 12,\n",
              " 'mgprob': 13,\n",
              " 'rebimg': 14,\n",
              " 'wcrsrt': 15}"
            ]
          },
          "metadata": {},
          "execution_count": 26
        }
      ]
    },
    {
      "cell_type": "code",
      "source": [
        "model = Sequential()"
      ],
      "metadata": {
        "id": "IxCPZsyLDgzG"
      },
      "execution_count": null,
      "outputs": []
    },
    {
      "cell_type": "code",
      "source": [
        "model.add(Convolution2D(32,(3,3),input_shape = (64,64,3), activation = \"relu\" ))"
      ],
      "metadata": {
        "id": "_e1ywjhxDpiK"
      },
      "execution_count": null,
      "outputs": []
    },
    {
      "cell_type": "code",
      "source": [
        "model.add(MaxPooling2D(pool_size = (2,2)))"
      ],
      "metadata": {
        "id": "CN99hUmXEwOF"
      },
      "execution_count": null,
      "outputs": []
    },
    {
      "cell_type": "code",
      "source": [
        "model.add(Flatten())"
      ],
      "metadata": {
        "id": "I-oXVgO3E9Q9"
      },
      "execution_count": null,
      "outputs": []
    },
    {
      "cell_type": "code",
      "source": [
        "model.add(Dense(units = 128,kernel_initializer = \"random_uniform\",activation = \"relu\" ))\n"
      ],
      "metadata": {
        "id": "ttxAtN6uFBkj"
      },
      "execution_count": null,
      "outputs": []
    },
    {
      "cell_type": "code",
      "source": [
        "model.add(Dense(units = 128,kernel_initializer = \"random_uniform\",activation = \"relu\" ))"
      ],
      "metadata": {
        "id": "UwL36eAhNI6a"
      },
      "execution_count": null,
      "outputs": []
    },
    {
      "cell_type": "code",
      "source": [
        "model.add(Dense(units = 16,kernel_initializer = \"random_uniform\",activation = \"softmax\" ))\n"
      ],
      "metadata": {
        "id": "f64pzC1-FVf-"
      },
      "execution_count": null,
      "outputs": []
    },
    {
      "cell_type": "code",
      "source": [
        "model.compile(loss = \"categorical_crossentropy\",optimizer = \"adam\" , metrics = [\"accuracy\"])"
      ],
      "metadata": {
        "id": "BjgeaH0iFZgP"
      },
      "execution_count": null,
      "outputs": []
    },
    {
      "cell_type": "code",
      "source": [
        "model.fit_generator( x_train , steps_per_epoch = 4 , epochs= 4 , validation_data = x_test , validation_steps = 4)"
      ],
      "metadata": {
        "colab": {
          "base_uri": "https://localhost:8080/"
        },
        "id": "zakknUDTFkDP",
        "outputId": "b9603475-0781-4a99-e695-7a501534a126"
      },
      "execution_count": null,
      "outputs": [
        {
          "output_type": "stream",
          "name": "stderr",
          "text": [
            "<ipython-input-50-bd5e49085061>:1: UserWarning: `Model.fit_generator` is deprecated and will be removed in a future version. Please use `Model.fit`, which supports generators.\n",
            "  model.fit_generator( x_train , steps_per_epoch = 4 , epochs= 4 , validation_data = x_test , validation_steps = 4)\n"
          ]
        },
        {
          "output_type": "stream",
          "name": "stdout",
          "text": [
            "Epoch 1/4\n",
            "4/4 [==============================] - 209s 66s/step - loss: 2.7721 - accuracy: 0.0678 - val_loss: 44.3621 - val_accuracy: 0.0000e+00\n",
            "Epoch 2/4\n",
            "4/4 [==============================] - 123s 37s/step - loss: 2.7696 - accuracy: 0.0625 - val_loss: 44.3626 - val_accuracy: 0.0000e+00\n",
            "Epoch 3/4\n",
            "4/4 [==============================] - 118s 36s/step - loss: 2.7688 - accuracy: 0.1356 - val_loss: 44.3633 - val_accuracy: 0.0000e+00\n",
            "Epoch 4/4\n",
            "4/4 [==============================] - 120s 38s/step - loss: 2.7665 - accuracy: 0.1186 - val_loss: 44.3643 - val_accuracy: 0.0000e+00\n"
          ]
        },
        {
          "output_type": "execute_result",
          "data": {
            "text/plain": [
              "<keras.callbacks.History at 0x7ff5544d9330>"
            ]
          },
          "metadata": {},
          "execution_count": 50
        }
      ]
    },
    {
      "cell_type": "code",
      "source": [
        "model.save(\"animals.h5\")"
      ],
      "metadata": {
        "id": "KsFskXrcO4uF"
      },
      "execution_count": null,
      "outputs": []
    },
    {
      "cell_type": "code",
      "source": [
        "from tensorflow.keras.models import load_model\n",
        "from tensorflow.keras.preprocessing import image"
      ],
      "metadata": {
        "id": "X8nGay3eQ5qv"
      },
      "execution_count": null,
      "outputs": []
    },
    {
      "cell_type": "code",
      "source": [
        "model = load_model(\"/content/drive/MyDrive/Colab Notebooks/animals.h5\")"
      ],
      "metadata": {
        "id": "g6xzCrCZiV48"
      },
      "execution_count": null,
      "outputs": []
    },
    {
      "cell_type": "code",
      "source": [
        "img = image.load_img(\"/content/drive/MyDrive/Colab Notebooks/train_data/himgri/12029790563_2fe54a68aa_o.jpg\" , target_size = (64,64))"
      ],
      "metadata": {
        "id": "H8xSPMGMibhS"
      },
      "execution_count": null,
      "outputs": []
    },
    {
      "cell_type": "code",
      "source": [
        "type(img)"
      ],
      "metadata": {
        "colab": {
          "base_uri": "https://localhost:8080/"
        },
        "id": "PzLj5YGsinl2",
        "outputId": "4419963c-4852-426e-b0db-80d579010857"
      },
      "execution_count": null,
      "outputs": [
        {
          "output_type": "execute_result",
          "data": {
            "text/plain": [
              "PIL.Image.Image"
            ]
          },
          "metadata": {},
          "execution_count": 58
        }
      ]
    },
    {
      "cell_type": "code",
      "source": [
        "import numpy as np\n",
        "x = image.img_to_array(img)"
      ],
      "metadata": {
        "id": "YmmO9w0tippH"
      },
      "execution_count": null,
      "outputs": []
    },
    {
      "cell_type": "code",
      "source": [
        "type(x)"
      ],
      "metadata": {
        "colab": {
          "base_uri": "https://localhost:8080/"
        },
        "id": "iTUihJyLipxT",
        "outputId": "e0cac6c6-adb3-4d53-cae9-7e8ca6990e2c"
      },
      "execution_count": null,
      "outputs": [
        {
          "output_type": "execute_result",
          "data": {
            "text/plain": [
              "numpy.ndarray"
            ]
          },
          "metadata": {},
          "execution_count": 60
        }
      ]
    },
    {
      "cell_type": "code",
      "source": [
        "x.shape"
      ],
      "metadata": {
        "colab": {
          "base_uri": "https://localhost:8080/"
        },
        "id": "e5lNrBdjisbo",
        "outputId": "1232abbe-b961-43d7-fb13-62aea71f8ad1"
      },
      "execution_count": null,
      "outputs": [
        {
          "output_type": "execute_result",
          "data": {
            "text/plain": [
              "(64, 64, 3)"
            ]
          },
          "metadata": {},
          "execution_count": 61
        }
      ]
    },
    {
      "cell_type": "code",
      "source": [
        "x = np.expand_dims(x,axis = 0)"
      ],
      "metadata": {
        "id": "uzr4eNbGiuXI"
      },
      "execution_count": null,
      "outputs": []
    },
    {
      "cell_type": "code",
      "source": [
        "x.shape"
      ],
      "metadata": {
        "colab": {
          "base_uri": "https://localhost:8080/"
        },
        "id": "WhWZbri7ixN2",
        "outputId": "91c44098-3f57-4fb2-f3a3-856fe33d0d34"
      },
      "execution_count": null,
      "outputs": [
        {
          "output_type": "execute_result",
          "data": {
            "text/plain": [
              "(1, 64, 64, 3)"
            ]
          },
          "metadata": {},
          "execution_count": 63
        }
      ]
    },
    {
      "cell_type": "code",
      "source": [
        "pred = np.argmax(model.predict(x), axis=-1)"
      ],
      "metadata": {
        "colab": {
          "base_uri": "https://localhost:8080/"
        },
        "id": "sB0OC5nMjGXs",
        "outputId": "8d0d9ef0-ccb3-46b1-99d8-c68ef940117f"
      },
      "execution_count": null,
      "outputs": [
        {
          "output_type": "stream",
          "name": "stdout",
          "text": [
            "1/1 [==============================] - 0s 25ms/step\n"
          ]
        }
      ]
    },
    {
      "cell_type": "code",
      "source": [
        "pred"
      ],
      "metadata": {
        "colab": {
          "base_uri": "https://localhost:8080/"
        },
        "id": "pfQ9qYI4iz07",
        "outputId": "bf2c41e0-2388-43f0-885a-acbc1b3c0482"
      },
      "execution_count": null,
      "outputs": [
        {
          "output_type": "execute_result",
          "data": {
            "text/plain": [
              "array([8])"
            ]
          },
          "metadata": {},
          "execution_count": 65
        }
      ]
    },
    {
      "cell_type": "code",
      "source": [
        "pred[0]"
      ],
      "metadata": {
        "colab": {
          "base_uri": "https://localhost:8080/"
        },
        "id": "wi9outPqiz4o",
        "outputId": "fe0576d8-75de-4278-af2d-b7d29dd10bed"
      },
      "execution_count": null,
      "outputs": [
        {
          "output_type": "execute_result",
          "data": {
            "text/plain": [
              "8"
            ]
          },
          "metadata": {},
          "execution_count": 67
        }
      ]
    },
    {
      "cell_type": "code",
      "source": [
        "index = [\"blasti\",\"bonegl\",\"brhkyt\",\"cbrtsh\",\"cmnmyn\",\"gretit\",\"hilpig\",\"himbul\",\"himgri\",\"hsparo\",\"indvul\",\"jglowl\",\"lbicrw\",\"mgprob\",\"rebimg\",\"wcrsrt\"]"
      ],
      "metadata": {
        "id": "wFas_njNiz8F"
      },
      "execution_count": null,
      "outputs": []
    },
    {
      "cell_type": "code",
      "source": [
        "animal = index[pred[0]]"
      ],
      "metadata": {
        "id": "hlz_XfW3i68J"
      },
      "execution_count": null,
      "outputs": []
    },
    {
      "cell_type": "code",
      "source": [
        "animal"
      ],
      "metadata": {
        "colab": {
          "base_uri": "https://localhost:8080/",
          "height": 35
        },
        "id": "-oEslvfWi7g6",
        "outputId": "63790bbd-4239-438a-c2d5-7519fb410aea"
      },
      "execution_count": null,
      "outputs": [
        {
          "output_type": "execute_result",
          "data": {
            "text/plain": [
              "'himgri'"
            ],
            "application/vnd.google.colaboratory.intrinsic+json": {
              "type": "string"
            }
          },
          "metadata": {},
          "execution_count": 70
        }
      ]
    }
  ]
}